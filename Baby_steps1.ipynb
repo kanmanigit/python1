{
 "cells": [
  {
   "cell_type": "code",
   "execution_count": 8,
   "id": "005377ea-b58f-4980-8f10-2fd86dfc2d4d",
   "metadata": {},
   "outputs": [
    {
     "name": "stdout",
     "output_type": "stream",
     "text": [
      "Welcome to Assignment-1\n"
     ]
    }
   ],
   "source": [
    "print(\"Welcome to Assignment-1\")"
   ]
  },
  {
   "cell_type": "code",
   "execution_count": 7,
   "id": "d93b3e27-16a8-4278-baa7-f425da83b85c",
   "metadata": {},
   "outputs": [
    {
     "name": "stdout",
     "output_type": "stream",
     "text": [
      "Num1=  10\n",
      "Num2=  30\n",
      "Add=  40\n"
     ]
    }
   ],
   "source": [
    "Num1=10\n",
    "Num2=30\n",
    "Add=Num1+Num2\n",
    "print(\"Num1= \", Num1)\n",
    "print(\"Num2= \", Num2)\n",
    "print (\"Add= \", Add)"
   ]
  },
  {
   "cell_type": "code",
   "execution_count": 6,
   "id": "e3065bd2-1090-46ca-a330-89199eacf133",
   "metadata": {},
   "outputs": [
    {
     "name": "stdin",
     "output_type": "stream",
     "text": [
      "Enter the BMI Index : 34\n"
     ]
    },
    {
     "name": "stdout",
     "output_type": "stream",
     "text": [
      "very Overweight\n"
     ]
    }
   ],
   "source": [
    "bmi_index = int (input(\"Enter the BMI Index :\"))\n",
    "if (bmi_index<18.5):\n",
    "    print(\"UnderWeight\")\n",
    "elif (bmi_index<24.9):\n",
    "    print(\"Normal Weight\")\n",
    "elif (bmi_index<29.9):\n",
    "    print(\"overweight\")\n",
    "else:\n",
    "    print(\"very Overweight\")\n",
    "    \n"
   ]
  },
  {
   "cell_type": "code",
   "execution_count": null,
   "id": "d6eb5b9a-b302-4901-aa2c-e1389ddce3fc",
   "metadata": {},
   "outputs": [],
   "source": []
  }
 ],
 "metadata": {
  "kernelspec": {
   "display_name": "Python 3 (ipykernel)",
   "language": "python",
   "name": "python3"
  },
  "language_info": {
   "codemirror_mode": {
    "name": "ipython",
    "version": 3
   },
   "file_extension": ".py",
   "mimetype": "text/x-python",
   "name": "python",
   "nbconvert_exporter": "python",
   "pygments_lexer": "ipython3",
   "version": "3.11.7"
  }
 },
 "nbformat": 4,
 "nbformat_minor": 5
}
