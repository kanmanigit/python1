{
 "cells": [
  {
   "cell_type": "code",
   "execution_count": null,
   "id": "d6eb5b9a-b302-4901-aa2c-e1389ddce3fc",
   "metadata": {},
   "outputs": [],
   "source": []
  },
  {
   "cell_type": "code",
   "execution_count": 1,
   "id": "bfd72629-ae28-407e-840a-68e29b9f73b9",
   "metadata": {},
   "outputs": [
    {
     "name": "stdout",
     "output_type": "stream",
     "text": [
      "HOPE AI\n"
     ]
    }
   ],
   "source": [
    "print(\"HOPE AI\")"
   ]
  },
  {
   "cell_type": "code",
   "execution_count": 2,
   "id": "8d80bbfe-dc6e-4e7c-ac00-489175c19a8c",
   "metadata": {},
   "outputs": [
    {
     "name": "stdin",
     "output_type": "stream",
     "text": [
      "Enter your institute name? :  HOPE AI\n"
     ]
    }
   ],
   "source": [
    "ins_name=input(\"Enter your institute name? : \")\n"
   ]
  },
  {
   "cell_type": "code",
   "execution_count": 3,
   "id": "178e8826-4304-41e1-99db-f170ebd5e16c",
   "metadata": {},
   "outputs": [
    {
     "name": "stdin",
     "output_type": "stream",
     "text": [
      "Enter your name:  RAJ\n",
      "Enter your age  15\n",
      "Enter your School name  Guru School\n",
      "Enter your degree B.E.CSE\n"
     ]
    }
   ],
   "source": [
    "name=input(\"Enter your name: \")\n",
    "age=input(\"Enter your age \")\n",
    "school_name=input(\"Enter your School name \")\n",
    "drgree=input(\"Enter your degree\")"
   ]
  },
  {
   "cell_type": "code",
   "execution_count": 4,
   "id": "03e80f13-ff00-4126-9f10-14b206526f4b",
   "metadata": {},
   "outputs": [
    {
     "name": "stdout",
     "output_type": "stream",
     "text": [
      "a= 43\n",
      "b= 34\n",
      "add= 77\n"
     ]
    }
   ],
   "source": [
    "a=43\n",
    "print(\"a=\",a)\n",
    "b=34\n",
    "print(\"b=\",b)\n",
    "add=a+b\n",
    "print(\"add=\", add)\n"
   ]
  },
  {
   "cell_type": "code",
   "execution_count": 5,
   "id": "9833c806-4ace-491e-b12c-d8fb5254b988",
   "metadata": {},
   "outputs": [
    {
     "name": "stdout",
     "output_type": "stream",
     "text": [
      "a= 43\n",
      "b= 34\n",
      "sub= 77\n"
     ]
    }
   ],
   "source": [
    "a=43\n",
    "print(\"a=\",a)\n",
    "b=34\n",
    "print(\"b=\",b)\n",
    "sub=a+b\n",
    "print(\"sub=\", sub)\n"
   ]
  },
  {
   "cell_type": "code",
   "execution_count": 9,
   "id": "41e0015f-0b79-47be-b8a5-3264c925b81a",
   "metadata": {},
   "outputs": [
    {
     "name": "stdout",
     "output_type": "stream",
     "text": [
      "a= 63\n",
      "b= 97\n",
      "mul= 6111\n"
     ]
    }
   ],
   "source": [
    "a=63\n",
    "print(\"a=\",a)\n",
    "b=97\n",
    "print(\"b=\",b)\n",
    "mul=a*b\n",
    "print(\"mul=\", mul)\n"
   ]
  },
  {
   "cell_type": "code",
   "execution_count": 12,
   "id": "c547153b-ac73-4706-8edf-10b9fda1451a",
   "metadata": {},
   "outputs": [
    {
     "name": "stdout",
     "output_type": "stream",
     "text": [
      "a= 76\n",
      "b= 31\n",
      "Float Div=  2.4516129032258065\n"
     ]
    }
   ],
   "source": [
    "a=76\n",
    "print(\"a=\",a)\n",
    "b=31\n",
    "print(\"b=\",b)\n",
    "div=a/b\n",
    "print(\"Floor Div= \", div)\n"
   ]
  },
  {
   "cell_type": "code",
   "execution_count": null,
   "id": "2cb24ab3-dba3-49fa-a27d-29135ef9ac22",
   "metadata": {},
   "outputs": [],
   "source": []
  },
  {
   "cell_type": "code",
   "execution_count": 14,
   "id": "aa57fff6-0e52-49c0-b076-a250d30a6e2a",
   "metadata": {},
   "outputs": [
    {
     "name": "stdout",
     "output_type": "stream",
     "text": [
      "a= 76\n",
      "b= 31\n",
      "Floor Div=  2\n"
     ]
    }
   ],
   "source": [
    "a=76\n",
    "print(\"a=\",a)\n",
    "b=31\n",
    "print(\"b=\",b)\n",
    "div=a/b\n",
    "print(\"Floor Div= \", round(div))\n"
   ]
  },
  {
   "cell_type": "code",
   "execution_count": 16,
   "id": "b490366b-ad20-4488-a2ac-ccf4bd672518",
   "metadata": {},
   "outputs": [
    {
     "name": "stdout",
     "output_type": "stream",
     "text": [
      "a= 76\n",
      "b= 31\n",
      "Modulo =  14\n"
     ]
    }
   ],
   "source": [
    "a=76\n",
    "print(\"a=\",a)\n",
    "b=31\n",
    "print(\"b=\",b)\n",
    "mod=a%b\n",
    "print(\"Modulo = \", mod)\n"
   ]
  },
  {
   "cell_type": "code",
   "execution_count": 17,
   "id": "cb0195e3-c494-436d-93e7-d980ee345eff",
   "metadata": {},
   "outputs": [
    {
     "name": "stdout",
     "output_type": "stream",
     "text": [
      "a= 4\n",
      "b= 4\n",
      "Power =  256\n"
     ]
    }
   ],
   "source": [
    "a=4\n",
    "print(\"a=\",a)\n",
    "b=4\n",
    "print(\"b=\",b)\n",
    "pow=a**b\n",
    "print(\"Power = \", pow)\n"
   ]
  },
  {
   "cell_type": "code",
   "execution_count": null,
   "id": "cccc31a0-7188-48a0-95da-57334b552659",
   "metadata": {},
   "outputs": [],
   "source": []
  }
 ],
 "metadata": {
  "kernelspec": {
   "display_name": "Python 3 (ipykernel)",
   "language": "python",
   "name": "python3"
  },
  "language_info": {
   "codemirror_mode": {
    "name": "ipython",
    "version": 3
   },
   "file_extension": ".py",
   "mimetype": "text/x-python",
   "name": "python",
   "nbconvert_exporter": "python",
   "pygments_lexer": "ipython3",
   "version": "3.11.7"
  }
 },
 "nbformat": 4,
 "nbformat_minor": 5
}
