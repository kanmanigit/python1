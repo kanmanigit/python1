{
 "cells": [
  {
   "cell_type": "code",
   "execution_count": 5,
   "id": "56540c4a-520d-4c10-a928-49314fc98421",
   "metadata": {},
   "outputs": [],
   "source": [
    "def subfields():\n",
    "    SubfieldsInAI=[\"Machine Learning\",\"Neural Networks\",\"Vision\",\"Robotics\",\"Sppech Processing\",\"Natural Language Processing\"]\n",
    "    print (\"Sub-fields in AI are\")\n",
    "    for subAI in SubfieldsInAI:\n",
    "        print(subAI)\n",
    "    \n",
    "    "
   ]
  },
  {
   "cell_type": "code",
   "execution_count": 6,
   "id": "e88c917e-7981-4ecd-ae2f-5692e13bf16e",
   "metadata": {},
   "outputs": [
    {
     "name": "stdout",
     "output_type": "stream",
     "text": [
      "Sub-fields in AI are\n",
      "Machine Learning\n",
      "Neural Networks\n",
      "Vision\n",
      "Robotics\n",
      "Sppech Processing\n",
      "Natural Language Processing\n"
     ]
    }
   ],
   "source": [
    "subfields()\n"
   ]
  },
  {
   "cell_type": "code",
   "execution_count": null,
   "id": "c3b73ce0-692d-4a7b-8052-7068d988769e",
   "metadata": {},
   "outputs": [],
   "source": [
    "# create a funtion that checks whether a given number is ODD/EVEN"
   ]
  },
  {
   "cell_type": "code",
   "execution_count": 7,
   "id": "938de0db-df70-445b-bfd9-1d474c240450",
   "metadata": {},
   "outputs": [],
   "source": [
    "def oddeven():\n",
    "    num=int(input(\"enter a number\"))\n",
    "    if (num%2==0):\n",
    "        msg=print(num,\" is Even number\")\n",
    "    else:\n",
    "        msg=print(num,\" is odd number\")\n",
    "    return msg\n",
    "    "
   ]
  },
  {
   "cell_type": "code",
   "execution_count": 8,
   "id": "ed3d008f-9d4b-4b3f-a147-0d0aa73bd385",
   "metadata": {},
   "outputs": [
    {
     "name": "stdin",
     "output_type": "stream",
     "text": [
      "enter a number 52452\n"
     ]
    },
    {
     "name": "stdout",
     "output_type": "stream",
     "text": [
      "52452  is Even number\n"
     ]
    }
   ],
   "source": [
    "oddeven()"
   ]
  },
  {
   "cell_type": "code",
   "execution_count": null,
   "id": "5baf8786-dc34-4683-a4e4-e325f009af2b",
   "metadata": {},
   "outputs": [],
   "source": [
    "# create a function that tells eligibility of marriage for male and female age limit like 21 for male, 18 for female"
   ]
  },
  {
   "cell_type": "code",
   "execution_count": 9,
   "id": "b88d0527-80f3-46e2-a7b4-72598c0e6ded",
   "metadata": {},
   "outputs": [],
   "source": [
    "def eligibilityformarriage():\n",
    "    age=int(input(\"Enter the Age\"))\n",
    "    gender=input(\"Enter your gender\")\n",
    "    if (age>18 and gender==\"Female\"):\n",
    "        print (\"your Gender: \",gender)\n",
    "        print(\"your age: \",age)\n",
    "        print(\"Eligible\")\n",
    "    elif (age>21 and gender==\"Male\"):\n",
    "        print(\"your gender: \",gender)\n",
    "        print(\"your age: \",age)\n",
    "        print(\" Eligible\")\n",
    "    else:\n",
    "        print(\"Not Eligible\")\n",
    "    \n",
    "    "
   ]
  },
  {
   "cell_type": "code",
   "execution_count": 10,
   "id": "b667f3ae-4207-47f5-9af7-862a7f0331bd",
   "metadata": {},
   "outputs": [
    {
     "name": "stdin",
     "output_type": "stream",
     "text": [
      "Enter the Age 20\n",
      "Enter your gender Male\n"
     ]
    },
    {
     "name": "stdout",
     "output_type": "stream",
     "text": [
      "Not Eligible\n"
     ]
    }
   ],
   "source": [
    "eligibilityformarriage()"
   ]
  },
  {
   "cell_type": "code",
   "execution_count": null,
   "id": "0ad244bc-d037-43dd-8f34-3e080f0ce752",
   "metadata": {},
   "outputs": [],
   "source": [
    "# Calculate the % of your 10th mark\n"
   ]
  },
  {
   "cell_type": "code",
   "execution_count": 11,
   "id": "cd406f5b-c8ac-4b02-9970-98d0e0fe9b9c",
   "metadata": {},
   "outputs": [],
   "source": [
    "def percentage():\n",
    "    \n",
    "    marks=[98,87,95,95,93]\n",
    "    l=len(marks)\n",
    "    total=0\n",
    "    print(\"subject :\",marks[0])\n",
    "    print(\"Subject2 :\", marks[1])\n",
    "    print(\"Subject3 :\", marks[2])\n",
    "    print(\"Subject4: \", marks[3])\n",
    "    print(\"Subject5: \", marks[4])\n",
    "    for i in range(0,l):\n",
    "        total=total+marks[i]\n",
    "        percent=total/l  \n",
    "        \n",
    "    print(\"total: \",total)\n",
    "    print(\"Percentage: \",percent )\n",
    "       "
   ]
  },
  {
   "cell_type": "code",
   "execution_count": 12,
   "id": "97c54ce4-0e50-4fc8-8dcb-b0e139d2003e",
   "metadata": {},
   "outputs": [
    {
     "name": "stdout",
     "output_type": "stream",
     "text": [
      "subject : 98\n",
      "Subject2 : 87\n",
      "Subject3 : 95\n",
      "Subject4:  95\n",
      "Subject5:  93\n",
      "total:  468\n",
      "Percentage:  93.6\n"
     ]
    }
   ],
   "source": [
    "percentage()"
   ]
  },
  {
   "cell_type": "code",
   "execution_count": null,
   "id": "5c7a3247-813d-4493-88a7-ddbbb1ca5e5b",
   "metadata": {},
   "outputs": [],
   "source": [
    "# print are and perimeter"
   ]
  },
  {
   "cell_type": "code",
   "execution_count": 13,
   "id": "1065e424-55cc-447a-a4e6-80efab3dad44",
   "metadata": {},
   "outputs": [],
   "source": [
    "def area_triangle():\n",
    "    height=32\n",
    "    breath=34\n",
    "    area=(height*breath)/2\n",
    "    print (\"Area of triangle: \",area)\n",
    "def perimeter_triangle():\n",
    "    height1=2\n",
    "    height2=4\n",
    "    breath2=4\n",
    "    perimeter=height1+height2+breath2\n",
    "    print (\"perimeter of triangle: \", perimeter)"
   ]
  },
  {
   "cell_type": "code",
   "execution_count": 14,
   "id": "887eb7dd-9446-4c6d-b61b-73863fa9bb40",
   "metadata": {},
   "outputs": [
    {
     "name": "stdout",
     "output_type": "stream",
     "text": [
      "Area of triangle:  544.0\n",
      "perimeter of triangle:  10\n"
     ]
    }
   ],
   "source": [
    "area_triangle()\n",
    "perimeter_triangle()"
   ]
  },
  {
   "cell_type": "code",
   "execution_count": null,
   "id": "2cc0776c-6762-4388-b59f-2a69a99237c7",
   "metadata": {},
   "outputs": [],
   "source": []
  },
  {
   "cell_type": "code",
   "execution_count": 47,
   "id": "382b53df-9d42-4d2f-adae-21885118d618",
   "metadata": {},
   "outputs": [],
   "source": [
    "def area_triangle(height,breath):\n",
    "    area=(height*breath)/2\n",
    "    print(\"Height: %d \\nBreath: %d\" %(height,breath))\n",
    "    return area\n",
    "def perimeter_triangle(height1,height2,breath2):\n",
    "    perimeter=height1+height2+breath2\n",
    "    print(\"Height: %d \\nHeight: %d  \\nBreath: %d\" %(height1,height2,breath2))\n",
    "    return perimeter"
   ]
  },
  {
   "cell_type": "code",
   "execution_count": 48,
   "id": "1bbc6b34-cf33-43b4-8835-22ca7d6d620f",
   "metadata": {},
   "outputs": [
    {
     "name": "stdout",
     "output_type": "stream",
     "text": [
      "Height: 32 \n",
      "Breath: 34\n",
      "Area of triangle:  544.0\n",
      "Height: 2 \n",
      "Height: 4  \n",
      "Breath: 4\n",
      "Perimeter of triangle:  10\n"
     ]
    }
   ],
   "source": [
    "area_triangle=area_triangle(32,34)\n",
    "\n",
    "print(\"Area of triangle: \", area_triangle)\n",
    "peri_triangle=perimeter_triangle(2,4,4)\n",
    "print (\"Perimeter of triangle: \",peri_triangle)\n"
   ]
  },
  {
   "cell_type": "code",
   "execution_count": null,
   "id": "218af8bb-d296-46c2-93b0-1beb00ed4370",
   "metadata": {},
   "outputs": [],
   "source": []
  }
 ],
 "metadata": {
  "kernelspec": {
   "display_name": "Python 3 (ipykernel)",
   "language": "python",
   "name": "python3"
  },
  "language_info": {
   "codemirror_mode": {
    "name": "ipython",
    "version": 3
   },
   "file_extension": ".py",
   "mimetype": "text/x-python",
   "name": "python",
   "nbconvert_exporter": "python",
   "pygments_lexer": "ipython3",
   "version": "3.11.7"
  }
 },
 "nbformat": 4,
 "nbformat_minor": 5
}
