{
 "cells": [
  {
   "cell_type": "code",
   "execution_count": null,
   "id": "1e13598b-b220-428c-83ef-069b2058d067",
   "metadata": {},
   "outputs": [],
   "source": [
    "name=input(\"Enter your Name\")  \n",
    "\n",
    "\n",
    " "
   ]
  },
  {
   "cell_type": "code",
   "execution_count": null,
   "id": "c7d911b7-c9de-44f8-980b-89b697269ced",
   "metadata": {},
   "outputs": [],
   "source": [
    "print (\"your name is \", name)\n"
   ]
  },
  {
   "cell_type": "code",
   "execution_count": 1,
   "id": "78ac62ee-2798-4ed5-9aff-b44d5fe43557",
   "metadata": {},
   "outputs": [
    {
     "name": "stdin",
     "output_type": "stream",
     "text": [
      "enter your num1 12\n",
      "enter your num2 12\n"
     ]
    },
    {
     "name": "stdout",
     "output_type": "stream",
     "text": [
      "addition of num1 and num2 is  24\n"
     ]
    }
   ],
   "source": [
    "num1=int(input(\"enter your num1\"))\n",
    "num2=int(input(\"enter your num2\"))\n",
    "add=num1+num2\n",
    "print(\"addition of num1 and num2 is \", add)\n",
    " "
   ]
  },
  {
   "cell_type": "code",
   "execution_count": null,
   "id": "1cfec865-b5f6-4912-801f-22c03b50dadc",
   "metadata": {},
   "outputs": [],
   "source": [
    "\n"
   ]
  }
 ],
 "metadata": {
  "kernelspec": {
   "display_name": "Python 3 (ipykernel)",
   "language": "python",
   "name": "python3"
  },
  "language_info": {
   "codemirror_mode": {
    "name": "ipython",
    "version": 3
   },
   "file_extension": ".py",
   "mimetype": "text/x-python",
   "name": "python",
   "nbconvert_exporter": "python",
   "pygments_lexer": "ipython3",
   "version": "3.11.7"
  }
 },
 "nbformat": 4,
 "nbformat_minor": 5
}
