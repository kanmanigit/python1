{
 "cells": [
  {
   "cell_type": "code",
   "execution_count": 1,
   "id": "036ca9e5-021d-43f3-a302-57bac9ae7551",
   "metadata": {},
   "outputs": [],
   "source": [
    "import pickle"
   ]
  },
  {
   "cell_type": "code",
   "execution_count": null,
   "id": "0d31b42b-bb40-4d12-8ce7-5e8aba0d3752",
   "metadata": {},
   "outputs": [],
   "source": [
    "# load the model by using load function of the pickle python module"
   ]
  },
  {
   "cell_type": "code",
   "execution_count": 2,
   "id": "ebd4d3bd-65d9-4960-afa4-34da2817bb1d",
   "metadata": {},
   "outputs": [],
   "source": [
    "load_module=pickle.load(open(\"finalized_model_linear.sav\",'rb'))"
   ]
  },
  {
   "cell_type": "code",
   "execution_count": 4,
   "id": "3670aff7-6f5f-45f8-ab88-5bd51f7e1bc8",
   "metadata": {},
   "outputs": [
    {
     "name": "stderr",
     "output_type": "stream",
     "text": [
      "/opt/anaconda3/lib/python3.11/site-packages/sklearn/base.py:439: UserWarning: X does not have valid feature names, but LinearRegression was fitted with feature names\n",
      "  warnings.warn(\n"
     ]
    },
    {
     "data": {
      "text/plain": [
       "array([[148460.78806172]])"
      ]
     },
     "execution_count": 4,
     "metadata": {},
     "output_type": "execute_result"
    }
   ],
   "source": [
    "# Test the module with random input\n",
    "load_module.predict([[13]])"
   ]
  },
  {
   "cell_type": "code",
   "execution_count": null,
   "id": "d2d1a0a1-714f-431b-a01e-0553b011ed62",
   "metadata": {},
   "outputs": [],
   "source": [
    "#test the module for \"0\" input. the model returing some numbers which is Slope or initial number ot intercept..in this case 26777"
   ]
  },
  {
   "cell_type": "code",
   "execution_count": 6,
   "id": "12cf0888-eeea-4a97-a502-27f84266f23a",
   "metadata": {},
   "outputs": [
    {
     "name": "stderr",
     "output_type": "stream",
     "text": [
      "/opt/anaconda3/lib/python3.11/site-packages/sklearn/base.py:439: UserWarning: X does not have valid feature names, but LinearRegression was fitted with feature names\n",
      "  warnings.warn(\n"
     ]
    },
    {
     "data": {
      "text/plain": [
       "array([[26777.3913412]])"
      ]
     },
     "execution_count": 6,
     "metadata": {},
     "output_type": "execute_result"
    }
   ],
   "source": [
    "load_module.predict([[0]])"
   ]
  },
  {
   "cell_type": "code",
   "execution_count": null,
   "id": "f539fa7f-b169-4f73-9270-c7e5daa66c58",
   "metadata": {},
   "outputs": [],
   "source": []
  }
 ],
 "metadata": {
  "kernelspec": {
   "display_name": "Python 3 (ipykernel)",
   "language": "python",
   "name": "python3"
  },
  "language_info": {
   "codemirror_mode": {
    "name": "ipython",
    "version": 3
   },
   "file_extension": ".py",
   "mimetype": "text/x-python",
   "name": "python",
   "nbconvert_exporter": "python",
   "pygments_lexer": "ipython3",
   "version": "3.11.7"
  }
 },
 "nbformat": 4,
 "nbformat_minor": 5
}
