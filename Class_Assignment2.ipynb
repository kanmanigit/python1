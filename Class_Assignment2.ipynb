{
 "cells": [
  {
   "cell_type": "code",
   "execution_count": 1,
   "id": "113ece78-b2c0-4ba9-83b3-fc1ba220d400",
   "metadata": {},
   "outputs": [],
   "source": [
    "from multifnlib import multifunction"
   ]
  },
  {
   "cell_type": "code",
   "execution_count": 4,
   "id": "05cb33ad-13cc-473f-89e4-1bccbef6cf6f",
   "metadata": {},
   "outputs": [
    {
     "name": "stdin",
     "output_type": "stream",
     "text": [
      "enter a number 34\n"
     ]
    },
    {
     "name": "stdout",
     "output_type": "stream",
     "text": [
      "34  is Even number\n"
     ]
    }
   ],
   "source": [
    "multifunction.oddeven()"
   ]
  },
  {
   "cell_type": "code",
   "execution_count": 5,
   "id": "a0bf53db-3518-4ea5-80a7-30cffdc9754b",
   "metadata": {},
   "outputs": [
    {
     "name": "stdin",
     "output_type": "stream",
     "text": [
      "Enter the Age 23\n",
      "Enter your gender Female\n"
     ]
    },
    {
     "name": "stdout",
     "output_type": "stream",
     "text": [
      "your Gender:  Female\n",
      "your age:  23\n",
      "Eligible\n"
     ]
    }
   ],
   "source": [
    "multifunction.eligibilityformarriage()"
   ]
  },
  {
   "cell_type": "code",
   "execution_count": 2,
   "id": "1b5165c2-a2fc-4289-a24e-d94c8b343790",
   "metadata": {},
   "outputs": [
    {
     "name": "stdin",
     "output_type": "stream",
     "text": [
      "enter Height 2\n",
      "enter Breath 3\n"
     ]
    },
    {
     "name": "stdout",
     "output_type": "stream",
     "text": [
      "Height: 2 \n",
      "Breath: 3\n"
     ]
    },
    {
     "data": {
      "text/plain": [
       "3.0"
      ]
     },
     "execution_count": 2,
     "metadata": {},
     "output_type": "execute_result"
    }
   ],
   "source": [
    "multifunction.area_triangle()"
   ]
  },
  {
   "cell_type": "code",
   "execution_count": 3,
   "id": "14270b75-9c93-41cc-bb19-4679af359707",
   "metadata": {},
   "outputs": [
    {
     "name": "stdin",
     "output_type": "stream",
     "text": [
      "enter Height1 2\n",
      "enter Height2 3\n",
      "enter Breath2 4\n"
     ]
    },
    {
     "name": "stdout",
     "output_type": "stream",
     "text": [
      "Height: 2 \n",
      "Height: 3  \n",
      "Breath: 4\n"
     ]
    },
    {
     "data": {
      "text/plain": [
       "9"
      ]
     },
     "execution_count": 3,
     "metadata": {},
     "output_type": "execute_result"
    }
   ],
   "source": [
    "multifunction.perimeter_triangle()"
   ]
  },
  {
   "cell_type": "code",
   "execution_count": 6,
   "id": "821aa026-1939-4e3a-8b82-4cf7d4a7bd77",
   "metadata": {},
   "outputs": [
    {
     "name": "stdout",
     "output_type": "stream",
     "text": [
      "Sub-fields in AI are\n",
      "Machine Learning\n",
      "Neural Networks\n",
      "Vision\n",
      "Robotics\n",
      "Sppech Processing\n",
      "Natural Language Processing\n"
     ]
    }
   ],
   "source": [
    "multifunction.subfields()"
   ]
  },
  {
   "cell_type": "code",
   "execution_count": 7,
   "id": "fc999e35-6d85-4e3d-8807-9024773704e4",
   "metadata": {},
   "outputs": [
    {
     "name": "stdin",
     "output_type": "stream",
     "text": [
      "Enter mark for subject1 99\n",
      "Enter mark for subject2 98\n",
      "Enter mark for subject3 97\n",
      "Enter mark for subject4 96\n",
      "Enter mark for subject5 99\n"
     ]
    },
    {
     "name": "stdout",
     "output_type": "stream",
     "text": [
      "subject1 : 99\n",
      "Subject2 : 98\n",
      "Subject3 : 97\n",
      "Subject4:  96\n",
      "Subject5:  99\n",
      "total:  489\n",
      "Percentage:  97.8\n"
     ]
    }
   ],
   "source": [
    "multifunction.percentage()"
   ]
  },
  {
   "cell_type": "code",
   "execution_count": null,
   "id": "ce335807-7642-4af3-900b-e9c3450d8eb1",
   "metadata": {},
   "outputs": [],
   "source": []
  }
 ],
 "metadata": {
  "kernelspec": {
   "display_name": "Python 3 (ipykernel)",
   "language": "python",
   "name": "python3"
  },
  "language_info": {
   "codemirror_mode": {
    "name": "ipython",
    "version": 3
   },
   "file_extension": ".py",
   "mimetype": "text/x-python",
   "name": "python",
   "nbconvert_exporter": "python",
   "pygments_lexer": "ipython3",
   "version": "3.11.7"
  }
 },
 "nbformat": 4,
 "nbformat_minor": 5
}
