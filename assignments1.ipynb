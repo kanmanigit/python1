{
 "cells": [
  {
   "cell_type": "code",
   "execution_count": 8,
   "id": "005377ea-b58f-4980-8f10-2fd86dfc2d4d",
   "metadata": {},
   "outputs": [
    {
     "name": "stdout",
     "output_type": "stream",
     "text": [
      "Welcome to Assignment-1\n"
     ]
    }
   ],
   "source": [
    "print(\"Welcome to Assignment-1\")"
   ]
  },
  {
   "cell_type": "code",
   "execution_count": 7,
   "id": "d93b3e27-16a8-4278-baa7-f425da83b85c",
   "metadata": {},
   "outputs": [
    {
     "name": "stdout",
     "output_type": "stream",
     "text": [
      "Num1=  10\n",
      "Num2=  30\n",
      "Add=  40\n"
     ]
    }
   ],
   "source": [
    "Num1=10\n",
    "Num2=30\n",
    "Add=Num1+Num2\n",
    "print(\"Num1= \", Num1)\n",
    "print(\"Num2= \", Num2)\n",
    "print (\"Add= \", Add)"
   ]
  },
  {
   "cell_type": "code",
   "execution_count": 6,
   "id": "e3065bd2-1090-46ca-a330-89199eacf133",
   "metadata": {},
   "outputs": [
    {
     "name": "stdin",
     "output_type": "stream",
     "text": [
      "Enter the BMI Index : 34\n"
     ]
    },
    {
     "name": "stdout",
     "output_type": "stream",
     "text": [
      "very Overweight\n"
     ]
    }
   ],
   "source": [
    "bmi_index = int (input(\"Enter the BMI Index :\"))\n",
    "if (bmi_index<18.5):\n",
    "    print(\"UnderWeight\")\n",
    "elif (bmi_index<24.9):\n",
    "    print(\"Normal Weight\")\n",
    "elif (bmi_index<29.9):\n",
    "    print(\"overweight\")\n",
    "else:\n",
    "    print(\"very Overweight\")\n",
    "    \n"
   ]
  },
  {
   "cell_type": "code",
   "execution_count": null,
   "id": "d6eb5b9a-b302-4901-aa2c-e1389ddce3fc",
   "metadata": {},
   "outputs": [],
   "source": []
  },
  {
   "cell_type": "code",
   "execution_count": 1,
   "id": "bfd72629-ae28-407e-840a-68e29b9f73b9",
   "metadata": {},
   "outputs": [
    {
     "name": "stdout",
     "output_type": "stream",
     "text": [
      "HOPE AI\n"
     ]
    }
   ],
   "source": [
    "print(\"HOPE AI\")"
   ]
  },
  {
   "cell_type": "code",
   "execution_count": 2,
   "id": "8d80bbfe-dc6e-4e7c-ac00-489175c19a8c",
   "metadata": {},
   "outputs": [
    {
     "name": "stdin",
     "output_type": "stream",
     "text": [
      "Enter your institute name? :  HOPE AI\n"
     ]
    }
   ],
   "source": [
    "ins_name=input(\"Enter your institute name? : \")\n"
   ]
  },
  {
   "cell_type": "code",
   "execution_count": 3,
   "id": "178e8826-4304-41e1-99db-f170ebd5e16c",
   "metadata": {},
   "outputs": [
    {
     "name": "stdin",
     "output_type": "stream",
     "text": [
      "Enter your name:  RAJ\n",
      "Enter your age  15\n",
      "Enter your School name  Guru School\n",
      "Enter your degree B.E.CSE\n"
     ]
    }
   ],
   "source": [
    "name=input(\"Enter your name: \")\n",
    "age=input(\"Enter your age \")\n",
    "school_name=input(\"Enter your School name \")\n",
    "drgree=input(\"Enter your degree\")"
   ]
  },
  {
   "cell_type": "code",
   "execution_count": 4,
   "id": "03e80f13-ff00-4126-9f10-14b206526f4b",
   "metadata": {},
   "outputs": [
    {
     "name": "stdout",
     "output_type": "stream",
     "text": [
      "a= 43\n",
      "b= 34\n",
      "add= 77\n"
     ]
    }
   ],
   "source": [
    "a=43\n",
    "print(\"a=\",a)\n",
    "b=34\n",
    "print(\"b=\",b)\n",
    "add=a+b\n",
    "print(\"add=\", add)\n"
   ]
  },
  {
   "cell_type": "code",
   "execution_count": 5,
   "id": "9833c806-4ace-491e-b12c-d8fb5254b988",
   "metadata": {},
   "outputs": [
    {
     "name": "stdout",
     "output_type": "stream",
     "text": [
      "a= 43\n",
      "b= 34\n",
      "sub= 77\n"
     ]
    }
   ],
   "source": [
    "a=43\n",
    "print(\"a=\",a)\n",
    "b=34\n",
    "print(\"b=\",b)\n",
    "sub=a+b\n",
    "print(\"sub=\", sub)\n"
   ]
  },
  {
   "cell_type": "code",
   "execution_count": 9,
   "id": "41e0015f-0b79-47be-b8a5-3264c925b81a",
   "metadata": {},
   "outputs": [
    {
     "name": "stdout",
     "output_type": "stream",
     "text": [
      "a= 63\n",
      "b= 97\n",
      "mul= 6111\n"
     ]
    }
   ],
   "source": [
    "a=63\n",
    "print(\"a=\",a)\n",
    "b=97\n",
    "print(\"b=\",b)\n",
    "mul=a*b\n",
    "print(\"mul=\", mul)\n"
   ]
  },
  {
   "cell_type": "code",
   "execution_count": 12,
   "id": "c547153b-ac73-4706-8edf-10b9fda1451a",
   "metadata": {},
   "outputs": [
    {
     "name": "stdout",
     "output_type": "stream",
     "text": [
      "a= 76\n",
      "b= 31\n",
      "Float Div=  2.4516129032258065\n"
     ]
    }
   ],
   "source": [
    "a=76\n",
    "print(\"a=\",a)\n",
    "b=31\n",
    "print(\"b=\",b)\n",
    "div=a/b\n",
    "print(\"Floor Div= \", div)\n"
   ]
  },
  {
   "cell_type": "code",
   "execution_count": null,
   "id": "2cb24ab3-dba3-49fa-a27d-29135ef9ac22",
   "metadata": {},
   "outputs": [],
   "source": []
  },
  {
   "cell_type": "code",
   "execution_count": 14,
   "id": "aa57fff6-0e52-49c0-b076-a250d30a6e2a",
   "metadata": {},
   "outputs": [
    {
     "name": "stdout",
     "output_type": "stream",
     "text": [
      "a= 76\n",
      "b= 31\n",
      "Floor Div=  2\n"
     ]
    }
   ],
   "source": [
    "a=76\n",
    "print(\"a=\",a)\n",
    "b=31\n",
    "print(\"b=\",b)\n",
    "div=a/b\n",
    "print(\"Floor Div= \", round(div))\n"
   ]
  },
  {
   "cell_type": "code",
   "execution_count": 16,
   "id": "b490366b-ad20-4488-a2ac-ccf4bd672518",
   "metadata": {},
   "outputs": [
    {
     "name": "stdout",
     "output_type": "stream",
     "text": [
      "a= 76\n",
      "b= 31\n",
      "Modulo =  14\n"
     ]
    }
   ],
   "source": [
    "a=76\n",
    "print(\"a=\",a)\n",
    "b=31\n",
    "print(\"b=\",b)\n",
    "mod=a%b\n",
    "print(\"Modulo = \", mod)\n"
   ]
  },
  {
   "cell_type": "code",
   "execution_count": 17,
   "id": "cb0195e3-c494-436d-93e7-d980ee345eff",
   "metadata": {},
   "outputs": [
    {
     "name": "stdout",
     "output_type": "stream",
     "text": [
      "a= 4\n",
      "b= 4\n",
      "Power =  256\n"
     ]
    }
   ],
   "source": [
    "a=4\n",
    "print(\"a=\",a)\n",
    "b=4\n",
    "print(\"b=\",b)\n",
    "pow=a**b\n",
    "print(\"Power = \", pow)\n"
   ]
  },
  {
   "cell_type": "code",
   "execution_count": null,
   "id": "cccc31a0-7188-48a0-95da-57334b552659",
   "metadata": {},
   "outputs": [],
   "source": []
  },
  {
   "cell_type": "code",
   "execution_count": 20,
   "id": "f1f591e0-9efb-4d92-bd8c-05ddad3fd815",
   "metadata": {},
   "outputs": [
    {
     "name": "stdout",
     "output_type": "stream",
     "text": [
      "0\n",
      "1\n",
      "2\n",
      "3\n",
      "4\n",
      "5\n",
      "6\n",
      "7\n",
      "8\n",
      "9\n",
      "10\n",
      "11\n",
      "12\n",
      "13\n",
      "14\n",
      "15\n",
      "16\n",
      "17\n",
      "18\n",
      "19\n"
     ]
    }
   ],
   "source": [
    "for i in range(0,20):\n",
    "    print(i)\n"
   ]
  },
  {
   "cell_type": "code",
   "execution_count": 28,
   "id": "62adbbde-386c-43ee-8281-0fba97f1a7c1",
   "metadata": {},
   "outputs": [
    {
     "name": "stdout",
     "output_type": "stream",
     "text": [
      "10 11 12 13 14 15 16 17 18 19 "
     ]
    }
   ],
   "source": [
    "for i in range(10, 20):\n",
    "    print(i, end=' ')"
   ]
  },
  {
   "cell_type": "code",
   "execution_count": 30,
   "id": "6c013068-1fb3-41a8-8574-fb3434d111e3",
   "metadata": {},
   "outputs": [
    {
     "name": "stdout",
     "output_type": "stream",
     "text": [
      "Number of item in the list2:  7\n"
     ]
    }
   ],
   "source": [
    "list=[10,20,14,55,43,87,76]\n",
    "no_of_items=len(list)\n",
    "print (\"Number of item in the List2: \",no_of_items)"
   ]
  },
  {
   "cell_type": "code",
   "execution_count": 38,
   "id": "9fc971d7-cc32-4cfc-a502-47e045b4e92e",
   "metadata": {},
   "outputs": [
    {
     "name": "stdout",
     "output_type": "stream",
     "text": [
      "Artificial Intelligence\n",
      "A\n",
      "r\n",
      "t\n",
      "i\n",
      "f\n",
      "i\n",
      "c\n",
      "i\n",
      "a\n",
      "l\n",
      " \n",
      "I\n",
      "n\n",
      "t\n",
      "e\n",
      "l\n",
      "l\n",
      "i\n",
      "g\n",
      "e\n",
      "n\n",
      "c\n",
      "e\n"
     ]
    }
   ],
   "source": [
    "string=\"Artificial Intelligence\"\n",
    "print (string)\n",
    "for i in string:\n",
    "    print(i)\n"
   ]
  },
  {
   "cell_type": "code",
   "execution_count": 4,
   "id": "aa072cb4-b7ca-4053-a7c4-f72c621b6a4d",
   "metadata": {},
   "outputs": [
    {
     "name": "stdout",
     "output_type": "stream",
     "text": [
      "-Your Name-\n",
      "-your Age-\n",
      "-your profession-\n",
      "\n"
     ]
    }
   ],
   "source": [
    "print(\"-Your Name-\\n-your Age-\\n-your profession-\\n\")"
   ]
  },
  {
   "cell_type": "code",
   "execution_count": 6,
   "id": "89f6c117-7091-4310-914c-48dee9116a35",
   "metadata": {},
   "outputs": [
    {
     "name": "stdout",
     "output_type": "stream",
     "text": [
      "(1, 'welcome', 2, 'HOPE')\n"
     ]
    }
   ],
   "source": [
    "tuples1=(1,'welcome',2,'HOPE')\n",
    "print(tuples1)"
   ]
  },
  {
   "cell_type": "code",
   "execution_count": 8,
   "id": "a18349f8-f169-4d40-a854-eda30f4fed79",
   "metadata": {},
   "outputs": [
    {
     "name": "stdout",
     "output_type": "stream",
     "text": [
      "('0,1,2,3', ('python', 'Hope'))\n"
     ]
    }
   ],
   "source": [
    "tuples1=('0,1,2,3')\n",
    "tuples2=('python', 'Hope')\n",
    "tuples3=tuples1,tuples2\n",
    "print(tuples3)"
   ]
  },
  {
   "cell_type": "code",
   "execution_count": 9,
   "id": "e4fe11f3-79ad-4fe9-9361-2daecbbd647b",
   "metadata": {},
   "outputs": [
    {
     "name": "stdout",
     "output_type": "stream",
     "text": [
      "19 is Odd\n",
      "25 is Odd\n",
      "1 is Odd\n"
     ]
    }
   ],
   "source": [
    "list=[20,10,16,19,25,1,276,188]\n",
    "for i in list:\n",
    "    if ((i%2)==1):\n",
    "        print(i,\"is Odd\")\n",
    "    \n",
    "    "
   ]
  },
  {
   "cell_type": "code",
   "execution_count": 10,
   "id": "59a2011b-6a96-470d-a977-db8aa8261bf4",
   "metadata": {},
   "outputs": [
    {
     "name": "stdout",
     "output_type": "stream",
     "text": [
      "20 is Even\n",
      "10 is Even\n",
      "16 is Even\n",
      "276 is Even\n",
      "188 is Even\n"
     ]
    }
   ],
   "source": [
    "list=[20,10,16,19,25,1,276,188]\n",
    "for i in list:\n",
    "    if ((i%2)==0):\n",
    "        print(i,\"is Even\")\n",
    "    \n",
    "    "
   ]
  },
  {
   "cell_type": "code",
   "execution_count": 12,
   "id": "b3504947-a774-4d16-8b0c-a55a2b55b6b2",
   "metadata": {},
   "outputs": [
    {
     "name": "stdin",
     "output_type": "stream",
     "text": [
      "value=  10\n"
     ]
    },
    {
     "name": "stdout",
     "output_type": "stream",
     "text": [
      "Correct\n"
     ]
    }
   ],
   "source": [
    "i=int(input(\"value= \"))\n",
    "if (i==10):\n",
    "    print(\"Correct\")"
   ]
  },
  {
   "cell_type": "code",
   "execution_count": 15,
   "id": "990979c1-f0cb-4574-89b7-ae0c406da6b8",
   "metadata": {},
   "outputs": [
    {
     "name": "stdin",
     "output_type": "stream",
     "text": [
      "enter your password HOPE123\n"
     ]
    },
    {
     "name": "stdout",
     "output_type": "stream",
     "text": [
      "your password is correct\n"
     ]
    }
   ],
   "source": [
    "pw=input(\"enter your password\")\n",
    "if (pw==\"HOPE123\"):\n",
    "    print(\"your password is correct\")\n",
    "else:\n",
    "    print(\"Your password is wrong\")"
   ]
  },
  {
   "cell_type": "code",
   "execution_count": 19,
   "id": "8270ccac-a46e-4c47-8726-b60e3c4c2e8c",
   "metadata": {},
   "outputs": [
    {
     "name": "stdin",
     "output_type": "stream",
     "text": [
      "enter your age 100\n"
     ]
    },
    {
     "name": "stdout",
     "output_type": "stream",
     "text": [
      "senior citizen\n"
     ]
    }
   ],
   "source": [
    "age=int(input(\"enter your age\"))\n",
    "if (age<18):\n",
    "    print(\"Children\")\n",
    "elif (age<35):\n",
    "    print(\"adult\")\n",
    "elif (age<59):\n",
    "    print(\"citizen\")\n",
    "else:\n",
    "    print(\"senior citizen\")\n",
    "    \n"
   ]
  },
  {
   "cell_type": "code",
   "execution_count": 23,
   "id": "63a7a34a-d85b-43a1-b85f-feb03bcc5f2b",
   "metadata": {},
   "outputs": [
    {
     "name": "stdin",
     "output_type": "stream",
     "text": [
      "enter any number 1\n"
     ]
    },
    {
     "name": "stdout",
     "output_type": "stream",
     "text": [
      "No is positive\n"
     ]
    }
   ],
   "source": [
    "num=int(input(\"enter any number\"))\n",
    "if (num>0):\n",
    "    print(\"No is positive\")\n",
    "else:\n",
    "    print(\"No is negative\")"
   ]
  },
  {
   "cell_type": "code",
   "execution_count": 26,
   "id": "86492a98-7f18-4730-9525-fe378f82c992",
   "metadata": {},
   "outputs": [
    {
     "name": "stdin",
     "output_type": "stream",
     "text": [
      "enter any number 22\n"
     ]
    },
    {
     "name": "stdout",
     "output_type": "stream",
     "text": [
      "number is not divisible by 5\n"
     ]
    }
   ],
   "source": [
    "num=int(input(\"enter any number\"))\n",
    "if ((num%5)==0):\n",
    "    print(\"number is divisible by 5\")\n",
    "else:\n",
    "    print(\"number is not divisible by 5\")"
   ]
  },
  {
   "cell_type": "code",
   "execution_count": null,
   "id": "df7ae24e-f9d5-47fc-a079-a73ddb23948c",
   "metadata": {},
   "outputs": [],
   "source": []
  }
 ],
 "metadata": {
  "kernelspec": {
   "display_name": "Python 3 (ipykernel)",
   "language": "python",
   "name": "python3"
  },
  "language_info": {
   "codemirror_mode": {
    "name": "ipython",
    "version": 3
   },
   "file_extension": ".py",
   "mimetype": "text/x-python",
   "name": "python",
   "nbconvert_exporter": "python",
   "pygments_lexer": "ipython3",
   "version": "3.11.7"
  }
 },
 "nbformat": 4,
 "nbformat_minor": 5
}
